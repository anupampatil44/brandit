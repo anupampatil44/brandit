{
  "nbformat": 4,
  "nbformat_minor": 0,
  "metadata": {
    "colab": {
      "name": "Scraping.ipynb",
      "provenance": []
    },
    "kernelspec": {
      "name": "python3",
      "display_name": "Python 3"
    },
    "language_info": {
      "name": "python"
    }
  },
  "cells": [
    {
      "cell_type": "markdown",
      "metadata": {
        "id": "ovh8FBtoNKfw"
      },
      "source": [
        "For file 1"
      ]
    },
    {
      "cell_type": "code",
      "metadata": {
        "id": "p_FHT5XsKrdb"
      },
      "source": [
        "from bs4 import BeautifulSoup\n",
        "from urllib.request import Request, urlopen\n",
        "\n",
        "site= \"https://www.franklinstreet.com/tagline-database/\"\n",
        "hdr = {'User-Agent': 'Mozilla/5.0'}\n",
        "req = Request(site,headers=hdr)\n",
        "page = urlopen(req)\n",
        "soup = BeautifulSoup(page)\n",
        "# print(soup)"
      ],
      "execution_count": null,
      "outputs": []
    },
    {
      "cell_type": "code",
      "metadata": {
        "id": "FOUFWdvmLECN"
      },
      "source": [
        "taglines = []\n",
        "\n",
        "for each in soup.find_all('strong'):\n",
        "  taglines.append(each.get_text())  "
      ],
      "execution_count": null,
      "outputs": []
    },
    {
      "cell_type": "code",
      "metadata": {
        "id": "nGJU95lEJxda"
      },
      "source": [
        "hospital_names = []\n",
        "\n",
        "for each in soup.find_all('a'):\n",
        "  hospital_names.append(each.get_text())  "
      ],
      "execution_count": null,
      "outputs": []
    },
    {
      "cell_type": "markdown",
      "metadata": {
        "id": "5RGNSpZP1WLO"
      },
      "source": [
        "# Hospital Array Processing"
      ]
    },
    {
      "cell_type": "code",
      "metadata": {
        "colab": {
          "base_uri": "https://localhost:8080/"
        },
        "id": "16ImMqsnKDgm",
        "outputId": "324486f6-9595-4f0a-9d44-3962a546405f"
      },
      "source": [
        "hospital_names[:10]"
      ],
      "execution_count": null,
      "outputs": [
        {
          "output_type": "execute_result",
          "data": {
            "text/plain": [
              "['Skip to content',\n",
              " '',\n",
              " '',\n",
              " 'Solutions',\n",
              " 'Case Studies',\n",
              " 'Insights',\n",
              " 'Working With Us',\n",
              " 'Let’s Talk',\n",
              " 'FREE ED VOLUME RECOVERY BLUEPRINT\\xa0',\n",
              " 'Abington Memorial Hospital']"
            ]
          },
          "metadata": {},
          "execution_count": 19
        }
      ]
    },
    {
      "cell_type": "code",
      "metadata": {
        "id": "oEUtewd80YIP"
      },
      "source": [
        "# first trim hospital names from the end \n",
        "\n",
        "hospital_names = hospital_names[:587]"
      ],
      "execution_count": null,
      "outputs": []
    },
    {
      "cell_type": "code",
      "metadata": {
        "id": "zBYdvqHT0zDE"
      },
      "source": [
        "# trim from the beginning part \n",
        "\n",
        "hospital_names = hospital_names[9:]"
      ],
      "execution_count": null,
      "outputs": []
    },
    {
      "cell_type": "code",
      "metadata": {
        "colab": {
          "base_uri": "https://localhost:8080/",
          "height": 35
        },
        "id": "8x5a-d6j0788",
        "outputId": "6efac2f4-35a6-421d-a820-37b4896ae3af"
      },
      "source": [
        "hospital_names[0]"
      ],
      "execution_count": null,
      "outputs": [
        {
          "output_type": "execute_result",
          "data": {
            "application/vnd.google.colaboratory.intrinsic+json": {
              "type": "string"
            },
            "text/plain": [
              "'Abington Memorial Hospital'"
            ]
          },
          "metadata": {},
          "execution_count": 22
        }
      ]
    },
    {
      "cell_type": "code",
      "metadata": {
        "colab": {
          "base_uri": "https://localhost:8080/",
          "height": 35
        },
        "id": "yZwQBbZq1K4A",
        "outputId": "bdfc8a8a-0954-429d-b11f-68ca2de1967e"
      },
      "source": [
        "hospital_names[-1]"
      ],
      "execution_count": null,
      "outputs": [
        {
          "output_type": "execute_result",
          "data": {
            "application/vnd.google.colaboratory.intrinsic+json": {
              "type": "string"
            },
            "text/plain": [
              "'Yuma Regional Medical Center'"
            ]
          },
          "metadata": {},
          "execution_count": 23
        }
      ]
    },
    {
      "cell_type": "code",
      "metadata": {
        "id": "swDjfWLa1PRU"
      },
      "source": [
        "# hospital names is done"
      ],
      "execution_count": null,
      "outputs": []
    },
    {
      "cell_type": "code",
      "metadata": {
        "colab": {
          "base_uri": "https://localhost:8080/"
        },
        "id": "OHIcibAKOQGk",
        "outputId": "9fc973ec-42ed-4911-bd46-78b68fbc7265"
      },
      "source": [
        "len(hospital_names)"
      ],
      "execution_count": null,
      "outputs": [
        {
          "output_type": "execute_result",
          "data": {
            "text/plain": [
              "578"
            ]
          },
          "metadata": {},
          "execution_count": 25
        }
      ]
    },
    {
      "cell_type": "code",
      "metadata": {
        "colab": {
          "base_uri": "https://localhost:8080/"
        },
        "id": "AnMTAyKZGP7K",
        "outputId": "fbccc415-577e-42d7-9ad0-c1c3d69cae2a"
      },
      "source": [
        "for i in range(len(hospital_names)):\n",
        "  print(i, \" \", hospital_names[i])"
      ],
      "execution_count": null,
      "outputs": [
        {
          "output_type": "stream",
          "name": "stdout",
          "text": [
            "0   Abington Memorial Hospital\n",
            "1   Acadia Hospital\n",
            "2   Adams Memorial Hospital\n",
            "3   Adirondack Medical Center\n",
            "4   Adventist Healthcare Sunbelt\n",
            "5   Adventist Midwest Health\n",
            "6   Affinity Medical Center\n",
            "7   AHMC Healthcare\n",
            "8   Akron General Medical Center\n",
            "9   Albany Medical Center\n",
            "10   Albert Einstein Medical Center\n",
            "11   Alegent Health\n",
            "12   All Children's Hospital\n",
            "13   Allen Memorial Hospital\n",
            "14   Andalusia Regional Hospital\n",
            "15   Anderson Hospital\n",
            "16   AnMed Health Medical Center\n",
            "17   Anne Arundel Medical Center\n",
            "18   Appling Healthcare System\n",
            "19   Archbold Memorial Hospital\n",
            "20   Ardent Health Services\n",
            "21   Aria Health\n",
            "22   Arkansas Methodist Medical Center\n",
            "23   Arlington Memorial Hospital\n",
            "24   Arnot Ogden Medical Center\n",
            "25   Aspirus\n",
            "26   Athens Regional Medical Center\n",
            "27   Atlanta Medical Center\n",
            "28   Atmore Community Hospital\n",
            "29   Aultman\n",
            "30   Avoyelles Hospital\n",
            "31   Baptist Easley Hospital\n",
            "32   Baptist Health Medical Center\n",
            "33   Baptist Health of Northeast Florida\n",
            "34   Baptist Health South Florida\n",
            "35   Baptist Hospital\n",
            "36   Baptist Hospital East\n",
            "37   Baptist Outpatient Services\n",
            "38   Baptist Medical Center and Wolfson Children’s Hospital\n",
            "39   Baton Rouge General Hospital\n",
            "40   Baycare Alliant Hospital\n",
            "41   BayCare Health System\n",
            "42   Baylor Health Care System\n",
            "43   Bayonne Medical Center\n",
            "44   Bayshore Community Hospital\n",
            "45   Beatrice Community Hospital & Health Center\n",
            "46   Beauregard Memorial Hospital\n",
            "47   Bergan Mercy Medical Center\n",
            "48   Beaumont Hospitals, Grosse Point\n",
            "49   Blanchard Valley Regional Health System\n",
            "50   Bolivar Medical Center\n",
            "51   Bon Secours Health System, Inc.\n",
            "52   Boston Children’s Hospital\n",
            "53   Boston Medical Center\n",
            "54   Botsford General Hospital\n",
            "55   Brandon Regional Hospital\n",
            "56   Brazosport Regional Health System\n",
            "57   Bristol Hospital\n",
            "58   Bronx-Lebanon Hospital Center\n",
            "59   Brookwood Medical Center\n",
            "60   Broward Health\n",
            "61   Buchanan General Hospital\n",
            "62   Burke Medical Center\n",
            "63   Cadence Health\n",
            "64   Calvary Hospital\n",
            "65   Calvert Memorial Hospital\n",
            "66   Campbell County Memorial Hospital\n",
            "67   Cancer Treatment Centers of America\n",
            "68   Candler Hospital\n",
            "69   Canyon Ridge Hospital\n",
            "70   Cape Fear Valley Medical Center\n",
            "71   Cape Regional Medical Center\n",
            "72   Capella Healthcare\n",
            "73   Capital Health System\n",
            "74   CarePartners Health Services\n",
            "75   Carilion Clinic\n",
            "76   Carolinas Healthcare System\n",
            "77   CaroMont Health\n",
            "78   Carondelet Health Network\n",
            "79   Carson Valley Medical Center\n",
            "80   Cascade Valley Hospital\n",
            "81   Catawba Valley Medical Center\n",
            "82   Catholic Health East\n",
            "83   Catholic Health Initiatives\n",
            "84   Catholic Health Partners\n",
            "85   Catholic Medical Center\n",
            "86   Champlain Valley Physicians Hospital Medical Center\n",
            "87   Charlotte Hungerford Hospital\n",
            "88   Chelsea Community Hospital\n",
            "89   Children's Healthcare of Atlanta\n",
            "90   Children’s of Alabama\n",
            "91   Children’s Hospital Central California\n",
            "92   Children’s Hospital of Philadelphia\n",
            "93   Children’s Hospital Los Angeles\n",
            "94   Children’s Hospital of Wisconsin\n",
            "95   Christus Health Southeast Texas\n",
            "96   Cincinnati Children’s\n",
            "97   Citizens Medical Center\n",
            "98   Clark Memorial Hospital\n",
            "99   Clay County Medical Center\n",
            "100   Cleveland County HealthCare System\n",
            "101   Cloud County Health Center\n",
            "102   Clovis Community Medical Center\n",
            "103   Colquitt Regional Medical Center\n",
            "104   Columbia St. Marys Hospital (WI)\n",
            "105   Columbus Community Hospital\n",
            "106   Columbus Regional Healthcare System\n",
            "107   Columbus Regional Healthcare System (NC)\n",
            "108   Commonwealth Health\n",
            "109   Community Health Systems\n",
            "110   Community Memorial Hospital\n",
            "111   Cone Health\n",
            "112   Connecticut Children’s Medical Center\n",
            "113   Covenant Health Systems\n",
            "114   Covenant Healthcare\n",
            "115   Covenant Hospital\n",
            "116   CrestPoint Health\n",
            "117   Crittenton Medical Center\n",
            "118   Crouse Hospital\n",
            "119   Crozer-Chester Medical Center\n",
            "120   Cullman Regional Medical Center\n",
            "121   Dallas County Hospital (IA)\n",
            "122   Dameron Hospital\n",
            "123   Dana Farber Cancer Institute\n",
            "124   Daughters of Charity Health System\n",
            "125   DCH Regional Medical Center\n",
            "126   Dean Health System\n",
            "127   Deborah Heart and Lung Center\n",
            "128   DeKalb Medical Center\n",
            "129   Delnor Community Hospital\n",
            "130   Denton Regional Medical\n",
            "131   Desert Regional Medical Center\n",
            "132   Dickinson Memorial Hospital\n",
            "133   Dimensions Healthcare System\n",
            "134   Doctors Hospital\n",
            "135   Doctors Hospital of Sarasota\n",
            "136   Dosher Memorial Hospital\n",
            "137   DuBois Regional Medical Center\n",
            "138   Duke University Hospital\n",
            "139   Durham Regional Hospital\n",
            "140   East Tennessee Children's Hospital\n",
            "141   Eastern Maine Healthcare Systems\n",
            "142   Easton Hospital\n",
            "143   Edward White Hospital\n",
            "144   Ellenville Regional Hospital\n",
            "145   Emanuel Medical Center\n",
            "146   Emerson Hospital\n",
            "147   Englewood Hospital & Medical Center\n",
            "148   Enloe Medical Center\n",
            "149   Erie Country Medical Center\n",
            "150   Erlanger Health System\n",
            "151   Evangelical Community Hospital\n",
            "152   Evergreen Hospital Medical Center\n",
            "153   Excela Health\n",
            "154   Exempla Healthcare\n",
            "155   Exeter Health Resources\n",
            "156   Fairfield Medical Center\n",
            "157   Fayette County Memorial Hospital\n",
            "158   FHN Memorial Hospital\n",
            "159   Field Memorial Community Hospital\n",
            "160   Florida Hospital – Orlando\n",
            "161   Floyd Valley Hospital\n",
            "162   Forsyth Medical Center\n",
            "163   Fox Chase Cancer Center\n",
            "164   Franciscan Health System\n",
            "165   Franklin County Medical Center\n",
            "166   Franklin County Memorial Hospital\n",
            "167   Fremont Area Medical Center\n",
            "168   Genesis Healthcare System\n",
            "169   Georgetown University Hospital\n",
            "170   Good Samaritan Health System\n",
            "171   Good Samaritan Hospital (Cleveland, OH)\n",
            "172   Good Samaritan Hospital Medical Center\n",
            "173   Good Shepherd Medical Center\n",
            "174   Grace Cottage Hospital\n",
            "175   Grace Hospital (NC)\n",
            "176   Grace Hospital (OH)\n",
            "177   Grady Health System\n",
            "178   Grandview Medical Center\n",
            "179   Grant Medical Center\n",
            "180   Grant Regional Health Center\n",
            "181   Granville Medical Center\n",
            "182   Greenwood Leflore Hospital\n",
            "183   Griffin Hospital\n",
            "184   Group Health Cooperative\n",
            "185   Grove City Medical Center\n",
            "186   Guadalupe Regional Medical Center\n",
            "187   Gundersen Lutheran Hospital\n",
            "188   Guthrie County Hospital\n",
            "189   Gwinnett Medical Center\n",
            "190   Harris County Hospital District\n",
            "191   Harrison Medical Center\n",
            "192   Hacienda HealthCare\n",
            "193   Halifax Regional Medical Center (NC)\n",
            "194   Hancock Regional Hospital\n",
            "195   Harbor Beach Community Hospital\n",
            "196   Harbor Oaks Hospital\n",
            "197   Harris Hospital\n",
            "198   Harrison County Community Hospital\n",
            "199   Hartford Memorial Hospital\n",
            "200   Hayes Green Beach Memorial Hospital\n",
            "201   HCA Healthcare\n",
            "202   Health Alliance\n",
            "203   Health First, Inc.\n",
            "204   HealthONE\n",
            "205   Henry Ford Health System\n",
            "206   Helen Ellis Memorial Hospital\n",
            "207   Heron Point of Chestertown\n",
            "208   Herrick Memorial Hospital\n",
            "209   Highlands Hospital\n",
            "210   High Point Regional Health System\n",
            "211   Hillcrest Medical Center\n",
            "212   Hilton Head Regional Medical Center\n",
            "213   Holy Name Medical Center\n",
            "214   Hopkins County Memorial Hospital\n",
            "215   Hospital for Special Surgery\n",
            "216   Hudson Hospital and Clinics\n",
            "217   Hudson Valley Hospital Center\n",
            "218   Hughston Clinic\n",
            "219   Humboldt County Memorial Hospital\n",
            "220   Hunt Regional Medical Center\n",
            "221   Hunterdon Healthcare\n",
            "222   Huntington Hospital\n",
            "223   Illinois Valley Community Hospital\n",
            "224   Infirmary Health System\n",
            "225   Ingham Regional Medical Center-Greenlawn Campus\n",
            "226   Iowa Health System\n",
            "227   Jackson General Hospital\n",
            "228   Jackson Park Hospital\n",
            "229   Jackson Purchase Medical Center\n",
            "230   Jameson Health System\n",
            "231   Jennie Stuart Medical Center\n",
            "232   Jersey City Medical Center\n",
            "233   Jersey Community Hospital\n",
            "234   Jewish Hospital & St. Mary’s HealthCare\n",
            "235   JFK Medical Center (NJ)\n",
            "236   John Peter Smith Hospital\n",
            "237   John T. Mather Memorial Hospital\n",
            "238   Johnson City Medical Center\n",
            "239   Jones Memorial Hospital\n",
            "240   Kaiser Permanente\n",
            "241   Kaleida Health\n",
            "242   Kendall Regional Medical Center\n",
            "243   Kindred Healthcare\n",
            "244   Kingsbrook Jewish Medical Center\n",
            "245   Kish Health System\n",
            "246   Kremmling Memorial Hospital\n",
            "247   Lafayette General Health\n",
            "248   Lake Chelan Community Hospital\n",
            "249   Lake Cumberland Regional Hospital\n",
            "250   Lake Health\n",
            "251   Lake Wales Medical Centers\n",
            "252   Lakeview Health System\n",
            "253   Lakeview Regional Medical Center\n",
            "254   Lakewood Manor\n",
            "255   Lancaster General Health\n",
            "256   Lane Regional Medical Center\n",
            "257   Lankenau Hospital\n",
            "258   Largo Medical Center\n",
            "259   Las Colinas Medical Center\n",
            "260   Laughlin Memorial Hospital\n",
            "261   Lawrence & Memorial Hospital\n",
            "262   Lawrence General Hospital\n",
            "263   Legacy Health System\n",
            "264   Lehigh Valley Hospital – Muhlenberg\n",
            "265   LHP Hospital Group\n",
            "266   Liberty Health\n",
            "267   Liberty Regional Medical Center\n",
            "268   LifePoint Hospitals\n",
            "269   Little Company of Mary Hospital & Health Care Centers\n",
            "270   Livingston Regional Hospital\n",
            "271   Logan Memorial Hospital\n",
            "272   Long Beach Medical Center\n",
            "273   Long Beach Memorial\n",
            "274   Loretto Hospital\n",
            "275   Lowell General Hospital\n",
            "276   Loyola University Medical Center\n",
            "277   Macon County General Hospital\n",
            "278   Magee Womens Hospital\n",
            "279   Magnolia Regional Health Center\n",
            "280   Maimonides Medical Center\n",
            "281   Main Line Health System\n",
            "282   Maine Medical Center\n",
            "283   Martin Health System\n",
            "284   Martin Memorial Health Systems\n",
            "285   Mary Greeley Medical Center\n",
            "286   McKenna Memorial Hospital\n",
            "287   McLeod Health\n",
            "288   Meadville Medical Center\n",
            "289   Medical Center Enterprise\n",
            "290   Medical Center Health System\n",
            "291   Medical Center of Central Georgia\n",
            "292   Medical Center of Lewisville\n",
            "293   Medical City Children's Hospital\n",
            "294   Medical University of South Carolina\n",
            "295   Memorial Health Care System\n",
            "296   Memorial Health Care Systems\n",
            "297   MemorialCare Health System\n",
            "298   Memorial Health University Medical Center\n",
            "299   Memorial Hermann Hospital\n",
            "300   Memorial Medical Center\n",
            "301   Memorial Hospital\n",
            "302   Memorial Hospital\n",
            "303   Memorial Hospital-Chester\n",
            "304   Memorial Sloan-Kettering Cancer Center\n",
            "305   Mercy Capitol Medical Center\n",
            "306   Mercy Health\n",
            "307   Mercy Health System\n",
            "308   Saint Joseph Mercy Port Huron\n",
            "309   Mercy Hospital of Defiance\n",
            "310   Mercy Medical Center\n",
            "311   Mercy Medical Center- Clinton\n",
            "312   Mercy Medical Center - Mason City\n",
            "313   Meridian Health\n",
            "314   Merit Health Systems\n",
            "315   Methodist Diagnostic Center Hospital\n",
            "316   Methodist Health System\n",
            "317   Methodist Hospital of Southern California\n",
            "318   Methodist Hospital\n",
            "319   Methodist Hospitals\n",
            "320   Methodist Le Bonhueur Healthcare\n",
            "321   Methodist Medical Center of Illinois\n",
            "322   Metro Health System\n",
            "323   Miami Valley Hospital\n",
            "324   Middlesex Hospital\n",
            "325   Millcreek Community Hospital\n",
            "326   Mille Lacs Health System\n",
            "327   Mississippi Baptist Medical Center\n",
            "328   Monongahela Valley Hospital\n",
            "329   Montefiore Medical Center\n",
            "330   Morris Hospital\n",
            "331   Morristown Memorial Hospital\n",
            "332   Moses Cone Health System\n",
            "333   Mount Carmel Health System\n",
            "334   Mount Sinai Hospital\n",
            "335   Mountain States Health Alliance\n",
            "336   Mt. Washington Pediatric Hospital\n",
            "337   MultiCare\n",
            "338   Murray Medical Center\n",
            "339   Nanticoke Memorial Hospital\n",
            "340   Nascott Rehabilitation\n",
            "341   Nash Health Care\n",
            "342   Nassau Healthcare Corporation\n",
            "343   Nationwide Children's Hospital\n",
            "344   The Nebraska Medical Center\n",
            "345   Nebraska Methodist Hospital\n",
            "346   New England Baptist Hospital\n",
            "347   New York Presbyterian Hospital\n",
            "348   Newton Medical Center\n",
            "349   Nix Health\n",
            "350   North County Hospital\n",
            "351   North Mississippi State Hospital\n",
            "352   North Ridge Medical Center\n",
            "353   NorthBay Healthcare\n",
            "354   Northeast Florida State Hospital\n",
            "355   Northeast Health\n",
            "356   Northeastern Nevada Regional Hospital\n",
            "357   Northern Inyo Hospital\n",
            "358   Northwest Community Healthcare\n",
            "359   Northwest Texas Healthcare\n",
            "360   Norton Healthcare, Inc.\n",
            "361   Norton Spring View Hospital\n",
            "362   Norwalk Hospital\n",
            "363   Norwegian American Hospital\n",
            "364   Noyes Memorial Hospital\n",
            "365   Nueterra Healthcare\n",
            "366   Oakdale Community Hospital\n",
            "367   Oaklawn Hospital\n",
            "368   Ochsner Health System\n",
            "369   Oconee Memorial Hospital\n",
            "370   OhioHealth\n",
            "371   Oneida Healthcare Center\n",
            "372   The Oregon Clinic\n",
            "373   Oregon Health and Science University\n",
            "374   Orlando Regional Healthcare\n",
            "375   Oswego Health\n",
            "376   Ouachita County Medical Center\n",
            "377   Ozarks Medical Center\n",
            "378   Palisades Medical Center\n",
            "379   Palos Community Hospital\n",
            "380   Pardee Hospital\n",
            "381   Parkwest Medical Center\n",
            "382   Parrish Medical Center\n",
            "383   Pauls Valley General Hospital\n",
            "384   Peconic Bay Medical Center\n",
            "385   Pemiscot Memorial Hospital\n",
            "386   Perry Memorial Hospital (OK)\n",
            "387   Perry Memorial Hospital (IL)\n",
            "388   Person Memorial Hospital\n",
            "389   Phelps Memorial Hospital Center\n",
            "390   Phoenix Health Systems\n",
            "391   Piedmont Hospital\n",
            "392   Pitt County Memorial Hospital\n",
            "393   Portage Health\n",
            "394   Portneuf Medical Center\n",
            "395   Presence Health\n",
            "396   Prince William Health System\n",
            "397   Princeton HealthCare System\n",
            "398   Privia Health\n",
            "399   ProMedica Health System\n",
            "400   Promise Hospital of Salt Lake\n",
            "401   Prosser Memorial Hospital\n",
            "402   Provena Health\n",
            "403   Providence Healthcare Network\n",
            "404   Providence Hospital\n",
            "405   Putnam Community Medical Center\n",
            "406   Putnam County Memorial Hospital\n",
            "407   Raleigh General Hospital\n",
            "408   Raritan Bay Medical Center\n",
            "409   Reading Health System\n",
            "410   Redwood Area Hospital\n",
            "411   RegionalCare Hospital Partners\n",
            "412   Reliable Medical Nursing Services LLC\n",
            "413   Resurrection Health Care Corporation\n",
            "414   Rex Hospital\n",
            "415   River Hospital\n",
            "416   Riverside Physician Network\n",
            "417   Rockdale Medical Center\n",
            "418   Roswell Park Cancer Institute\n",
            "419   Runnells Specialized Hospital of Union City\n",
            "420   Rush Oak Park Hospital\n",
            "421   Rush-University Medical Center\n",
            "422   Rutland Regional Medical Center\n",
            "423   Saint Barnabas Health Care system\n",
            "424   Saint Francis Medical Center\n",
            "425   Saint John Medical Center\n",
            "426   Saint Joseph Mercy Hospital\n",
            "427   Saint Michael’s Medical Center\n",
            "428   Salina Regional Health Center\n",
            "429   Samaritan Healthcare & Hospice\n",
            "430   Samuel Mahelona Memorial Hospital\n",
            "431   Samuel Simmonds Memorial Hospital\n",
            "432   Santa Monica UCLA Medical Center\n",
            "433   San Antonio Community Hospital\n",
            "434   Satilla Regional Medical Center\n",
            "435   Sarah Bush Lincoln\n",
            "436   Schneider Regional Medical Center\n",
            "437   SCL Health System Inc.\n",
            "438   Scotland Health Care System\n",
            "439   Scott Memorial Hospital\n",
            "440   Seton Health System\n",
            "441   Shands Healthcare\n",
            "442   Sharon Regional Hospital\n",
            "443   Shawnee Mission Medical Center\n",
            "444   Shenandoah ValleyWestminster-Canterbury\n",
            "445   Sherman Hospital\n",
            "446   Shriners Hospital for Children\n",
            "447   Singing River Hospital\n",
            "448   Sisters of Charity Health System\n",
            "449   Sisters of Providence Health System\n",
            "450   Slidell Memorial Hospital\n",
            "451   Somerset Hospital\n",
            "452   South Baldwin Regional\n",
            "453   South Central Regional Medical Center\n",
            "454   South Lake Hospital\n",
            "455   South Nassau Communities Hospital\n",
            "456   South Shore Medical Center\n",
            "457   Southcoast Health System\n",
            "458   Southeast Ohio Regional Medical Center\n",
            "459   Southeastern Regional Medical Center\n",
            "460   Southwest Health Center\n",
            "461   Southwest Memorial Hospital\n",
            "462   Spartanburg Regional Healthcare System\n",
            "463   Spaulding Rehabilitation Hospital Cape Cod\n",
            "464   Speare Memorial Hospital\n",
            "465   Spring View Hospital\n",
            "466   Springfield Clinic\n",
            "467   Springfield Hospital\n",
            "468   St. Agnes Hospital\n",
            "469   St. Anthony Medical Center – Crown Point\n",
            "470   St. Anthony’s Medical Center\n",
            "471   St. Bernards Healthcare (AR)\n",
            "472   St. Elizabeth Hospital (LA)\n",
            "473   St. Elizabeth Medical Center (NY)\n",
            "474   St. Francis Health Center\n",
            "475   St. Francis Hospital (WA)\n",
            "476   St. Francis Hospitals and Health Centers\n",
            "477   St. Francis Medical Center (MO)\n",
            "478   St. Francis Medical Center (NE)\n",
            "479   St. James Hospital and Health Centers\n",
            "480   St. James Mercy Hospital\n",
            "481   St. John Health System\n",
            "482   St. John Providence Health System\n",
            "483   St. John's Riverside Hospital\n",
            "484   St. Joseph's Hospital Health Center\n",
            "485   St. Joseph’s Hospital of Atlanta\n",
            "486   St. Jude Children’s Research Hospital\n",
            "487   St. Luke's Cornwall Hospital\n",
            "488   St. Luke’s Hospital-MO\n",
            "489   St. Lukes Episcopal Hospital\n",
            "490   St. Mary's Medical Center (PA)\n",
            "491   St. Mary’s Hospital at Amsterdam\n",
            "492   St. Peters Hospital\n",
            "493   St. Vincent Charity Medical Center\n",
            "494   St. Vincent Health (AR)\n",
            "495   St. Vincent Health (IL)\n",
            "496   St. Vincent Health System\n",
            "497   St. Vincent Health System\n",
            "498   Southern Ocean Medical Center\n",
            "499   Stamford Hospital\n",
            "500   Stanly Regional Medical Center\n",
            "501   Starr Regional Medical Center\n",
            "502   Steward Health Care\n",
            "503   Stony Brook University Medical Center\n",
            "504   Stormont Vail Regional Health Center\n",
            "505   Summit Health\n",
            "506   Sumner Regional Medical Center\n",
            "507   Sutter Health\n",
            "508   Swedish Covenant Hospital\n",
            "509   Swift County Benson Hospital\n",
            "510   T.J. Samson Community Hospital\n",
            "511   Tallahassee Memorial Health Care\n",
            "512   Teton Valley Health Care\n",
            "513   Texas Health\n",
            "514   The Menninger Clinic\n",
            "515   Thibodaux Regional Medical Center\n",
            "516   Thorek Hospital and Medical Center\n",
            "517   Trident Health System\n",
            "518   TriHealth\n",
            "519   Trinity Health System\n",
            "520   TriStar Health System\n",
            "521   Truman Medical Center Hospital Hill\n",
            "522   Union Hospital (MD)\n",
            "523   Uniontown Hospital\n",
            "524   University Medical Center\n",
            "525   University of Alabama Hospital\n",
            "526   University of Chicago Medical Center\n",
            "527   University of Illinois Hospital & Health Sciences System\n",
            "528   University of Iowa Health Care\n",
            "529   University of Michigan Hospitals and Medical Center\n",
            "530   University of Mississippi Medical Center\n",
            "531   University of Rochester Medical Center\n",
            "532   University of Tennessee Medical Center\n",
            "533   University of Texas MD Anderson Cancer Center\n",
            "534   University of Texas Medical Branch Hospital\n",
            "535   University of Virginia Health System\n",
            "536   University Physicians Healthcare\n",
            "537   Valdese Hospital\n",
            "538   Valley Baptist Health System\n",
            "539   Valley County Health System\n",
            "540   Vaughan Regional Medical Center\n",
            "541   VCU Medical Center\n",
            "542   Verde Valley Medical Center\n",
            "543   Via Christi Health\n",
            "544   Wabash Valley Hospital\n",
            "545   Wagoner Community Hospital\n",
            "546   Wahiawa General Hospital\n",
            "547   Wake Forest University Baptist Medical\n",
            "548   Wallace Thomson Hospital\n",
            "549   War Memorial Hospital\n",
            "550   Warren Hospital\n",
            "551   Washington Regional Medical Center\n",
            "552   Washington County Regional Medical Center\n",
            "553   WVU Healthcare\n",
            "554   Washington Hospital Center\n",
            "555   Weiss Memorial Hospital\n",
            "556   WellSpan Health\n",
            "557   Wesley Medical Center\n",
            "558   West Calcasieu Cameron Hospital\n",
            "559   West Georgia Health System\n",
            "560   West Jefferson Medical Center\n",
            "561   West Kendall Baptist Hospital\n",
            "562   Western Arizona Regional Medical Center\n",
            "563   Western Maryland Health System\n",
            "564   Westminster Canterbury\n",
            "565   Wheeling Hospital\n",
            "566   Witham Health Services\n",
            "567   William Backus Hospital\n",
            "568   Williamson Medical Center\n",
            "569   Willough Healthcare System\n",
            "570   Wilson Medical Center\n",
            "571   Winchester Medical Center\n",
            "572   Winter Haven Hospital\n",
            "573   Winthrop University Hospital\n",
            "574   Woodridge Hospital\n",
            "575   Wythe County Community Hospital\n",
            "576   Yampa Valley Medical Center\n",
            "577   Yuma Regional Medical Center\n"
          ]
        }
      ]
    },
    {
      "cell_type": "markdown",
      "metadata": {
        "id": "Is3BgVwG1dLD"
      },
      "source": [
        "# Taglines array processing"
      ]
    },
    {
      "cell_type": "code",
      "metadata": {
        "colab": {
          "base_uri": "https://localhost:8080/",
          "height": 35
        },
        "id": "yKE-v0DwLXXk",
        "outputId": "514c9cdd-c1ab-4bc1-b156-a99902b7c637"
      },
      "source": [
        "taglines[0]  # looks good from the beginning"
      ],
      "execution_count": null,
      "outputs": [
        {
          "output_type": "execute_result",
          "data": {
            "application/vnd.google.colaboratory.intrinsic+json": {
              "type": "string"
            },
            "text/plain": [
              "'The Power to Heal '"
            ]
          },
          "metadata": {},
          "execution_count": 28
        }
      ]
    },
    {
      "cell_type": "code",
      "metadata": {
        "colab": {
          "base_uri": "https://localhost:8080/",
          "height": 35
        },
        "id": "r7vHQiCl16Ow",
        "outputId": "7687bf51-15cd-44ec-80a4-919b728ebb02"
      },
      "source": [
        "taglines[-1]"
      ],
      "execution_count": null,
      "outputs": [
        {
          "output_type": "execute_result",
          "data": {
            "application/vnd.google.colaboratory.intrinsic+json": {
              "type": "string"
            },
            "text/plain": [
              "'We practice exclusively in the health and wellness space.'"
            ]
          },
          "metadata": {},
          "execution_count": 29
        }
      ]
    },
    {
      "cell_type": "code",
      "metadata": {
        "colab": {
          "base_uri": "https://localhost:8080/"
        },
        "id": "ObzYMArn1_Cs",
        "outputId": "df2dee9e-ce19-45fd-fcf6-b235c95497e2"
      },
      "source": [
        "taglines[-10:]  # only last one needs to be removed"
      ],
      "execution_count": null,
      "outputs": [
        {
          "output_type": "execute_result",
          "data": {
            "text/plain": [
              "['Treatment with strength and compassion',\n",
              " 'Choose Well. Choose Wilson',\n",
              " 'Healthier, together.',\n",
              " 'Compassion. Innovation. Trust',\n",
              " 'Your Health Means Everything.',\n",
              " 'Bringing loving care to health care',\n",
              " 'Passion for Healthcare',\n",
              " 'Your Health. Elevated.',\n",
              " 'Caring for the growing needs of our community.',\n",
              " 'We practice exclusively in the health and wellness space.']"
            ]
          },
          "metadata": {},
          "execution_count": 34
        }
      ]
    },
    {
      "cell_type": "code",
      "metadata": {
        "id": "eVtKMHR82ZYF"
      },
      "source": [
        "taglines = taglines[:-1]"
      ],
      "execution_count": null,
      "outputs": []
    },
    {
      "cell_type": "code",
      "metadata": {
        "colab": {
          "base_uri": "https://localhost:8080/",
          "height": 35
        },
        "id": "fz7QIQYx2jfc",
        "outputId": "b0925dfe-ba37-417d-c355-6407f986b97c"
      },
      "source": [
        "taglines[-1]  # this for yuma regional, done"
      ],
      "execution_count": null,
      "outputs": [
        {
          "output_type": "execute_result",
          "data": {
            "application/vnd.google.colaboratory.intrinsic+json": {
              "type": "string"
            },
            "text/plain": [
              "'Caring for the growing needs of our community.'"
            ]
          },
          "metadata": {},
          "execution_count": 37
        }
      ]
    },
    {
      "cell_type": "code",
      "metadata": {
        "colab": {
          "base_uri": "https://localhost:8080/"
        },
        "id": "oO9Nb_OiOhlf",
        "outputId": "68119c02-f6bd-4a67-d5f5-bd36e59e2917"
      },
      "source": [
        "len(taglines)  # still 10 extra entires here"
      ],
      "execution_count": null,
      "outputs": [
        {
          "output_type": "execute_result",
          "data": {
            "text/plain": [
              "588"
            ]
          },
          "metadata": {},
          "execution_count": 39
        }
      ]
    },
    {
      "cell_type": "code",
      "metadata": {
        "colab": {
          "base_uri": "https://localhost:8080/"
        },
        "id": "TNSG0qDo2vGN",
        "outputId": "feed19bb-ae75-4f29-abf0-006abfbaf144"
      },
      "source": [
        "for i in range(len(taglines)):\n",
        "  print(i,\" \", taglines[i])"
      ],
      "execution_count": null,
      "outputs": [
        {
          "output_type": "stream",
          "name": "stdout",
          "text": [
            "0   The Power to Heal \n",
            "1   Empowering People to Improve Their Lives\n",
            "2   Exceptional Care Close to You\n",
            "3   Excellent health care... Close to home\n",
            "4   Extending the Healing Ministry of Christ\n",
            "5   Keeping You Well\n",
            "6   Close to you\n",
            "7   Better Care and Better Understanding\n",
            "8   My Health. My Life.\n",
            "9   Known for our expertise. Chosen for our care.\n",
            "10   Genius in Healthcare\n",
            "11   This is your healthcare\n",
            "12   Creating healthy tomorrows...for one child, All Children \n",
            "13   The heart of your healthcare\n",
            "14   Higher standards of care every day.\n",
            "15   Serving Southwestern Illinois\n",
            "16   We’re in this together\n",
            "17   Living Healthier Together\n",
            "18   Care close to home\n",
            "19   The care you need. The compassion you deserve.\n",
            "20   Investing in Quality Care\n",
            "21   Advanced Medicine. Personal Care.\n",
            "22   It's all about you\n",
            "23   Healing Hands. Caring Hearts.\n",
            "24   Come to expect the best.\n",
            "25   Passion for excellence. Compassion for people.\n",
            "26   Where care comes first.\n",
            "27   A Culture of Caring.\n",
            "28   You’ll Love the Way We Care for You\n",
            "29   Healthier, together.\n",
            "30   Making a difference together.\n",
            "31   Caring is our calling.\n",
            "32   All our best\n",
            "33   Changing Health Care for Good.\n",
            "34   Healthcare That Cares\n",
            "35   We’re here for life.\n",
            "36   Feel better.\n",
            "37   Not just better healthcare, but a better healthcare experience.\n",
            "38   Depend on Us for Life.\n",
            "39   A Community of Caring\n",
            "40   Helping You Help Your Loved One\n",
            "41   The Hospital of the Future, Today\n",
            "42   Serving all people through exemplary health care, education, research and community outreach.\n",
            "43   We’re just better at making you feel better\n",
            "44   Taking care of New Jersey\n",
            "45   Skilled health care close to home\n",
            "46   Nothing is more important than your health\n",
            "47   This Is Your Healthcare\n",
            "48   5-Star Care \n",
            "49   We're here for you.\n",
            "50   The right care...right at home.\n",
            "51   Good Help to Those in Need\n",
            "52   Until Every Child is Well\n",
            "53   Exceptional care. Without exception.\n",
            "54   Smaller size. Big results.\n",
            "55   Together, performing at a higher standard\n",
            "56   The Right Care. Right here.\n",
            "57   everyday extraordinary\n",
            "58   Doctor to the Community\n",
            "59   Hello Life\n",
            "60   Powerful Medicine\n",
            "61   Best of Care, Close to Home\n",
            "62   Caring for our community\n",
            "63   Engineering the flow of healthcare\n",
            "64   Where life continues\n",
            "65   Tradition. Quality. Progress.\n",
            "66   Dedicated to caring for you\n",
            "67   Care that never quits\n",
            "68   Live smart.\n",
            "69   Your center for mental health\n",
            "70   Transforming healthcare\n",
            "71   Exceptional Care. Exceptional People.\n",
            "72   Making health care better. Together.\n",
            "73   Minds Advancing Medicine\n",
            "74   Exceptional care. Every day. \n",
            "75   Inspiring Better Health\n",
            "76   Uncompromising Excellence. Commitment to Care.\n",
            "77   In Love with Life.\n",
            "78   Be well.\n",
            "79   Your Community Hospital\n",
            "80   Close to home. Close to heart.\n",
            "81   Trust experience. Trust technology. Trust Catawba.\n",
            "82   A Transforming, Healing Presence\n",
            "83   Imagine better health\n",
            "84   Partnerships for Health\n",
            "85   The center is you\n",
            "86   A Great Place to Work. A Great Place to Receive Care.\n",
            "87   One thousand caregivers. One job. Your health.\n",
            "88   Remarkable medicine. Remarkable care.\n",
            "89   Dedicated to All Better\n",
            "90   Healthcare as amazing as their potential\n",
            "91   Amazing People. Incredible Care. \n",
            "92   Hope Lives Here\n",
            "93   We treat kids better\n",
            "94   Kids deserve the best\n",
            "95   We are His hands.\n",
            "96   change the outcome\n",
            "97   Community Focused. Quality Healthcare.\n",
            "98   No one cares like Clark\n",
            "99   The heart of healthcare\n",
            "100   Exceptional technology. Extraordinary care.\n",
            "101   Reaching out to serve\n",
            "102   Time for Care When It’s Time for Care\n",
            "103   Close to Home. Close to Your Heart.\n",
            "104   A Passion for Patient Care\n",
            "105   Well into the future\n",
            "106   Your Health. Our Mission.\n",
            "107   Well within reach\n",
            "108   Together, we are working toward a healthier community\n",
            "109   The Healthcare System of Opportunity\n",
            "110   The Knowledge to Save Lives. The Location to Save Time.\n",
            "111   The Network for Exceptional Care\n",
            "112   Giving children the care they deserve\n",
            "113   Our name is our promise\n",
            "114   Extraordinary care for every generation\n",
            "115   Caring for our region’s most precious resource.\n",
            "116   Improved Care. Greater Value. Better Results.\n",
            "117   Get better here\n",
            "118   Your care. In our hands.\n",
            "119   Something to feel good about.\n",
            "120   Our focus is on proven, quality care\n",
            "121   Specialized care close to home\n",
            "122   Your Community Hospital Providing Generations of Caring\n",
            "123   Dedicated to Discovery. Committed to Care.\n",
            "124   Serving the sick and the poor \n",
            "125   Caring. For life.\n",
            "126   Partners who care.\n",
            "127   Where Healing Comes From the Heart\n",
            "128   Pushing Beyond\n",
            "129   Quality. Defined.\n",
            "130   Care you can trust.\n",
            "131   The hospital you trust to care for those you love\n",
            "132   Quality and compassion...improving lives\n",
            "133   The Human Dimension in Medicine\n",
            "134   Isn't your health worth it?\n",
            "135   Together, performing at a higher standard\n",
            "136   The Heart of Your Healthcare\n",
            "137   Making the difference for life\n",
            "138   Extraordinary People. Extraordinary Care.\n",
            "139   Extraordinary People. Extraordinary Care.\n",
            "140   We get kids\n",
            "141   Access to quality healthcare\n",
            "142   Quality care. Right here.\n",
            "143   Together, performing at a higher standard\n",
            "144   Innovating, Collaborating, Providing Award-Winning Care\n",
            "145   Technology to heal. Compassion for life.\n",
            "146   Premium Care. Personal Touch.\n",
            "147   Your Community, Your Health Care.\n",
            "148   Improving the Quality of Your Life at Home\n",
            "149   The Culture of Care\n",
            "150   We practice what we teach.\n",
            "151   Excellence every day\n",
            "152   Exceptional care close to home.\n",
            "153   Life Excels\n",
            "154   Leading by example\n",
            "155   The Art of Wellness\n",
            "156   People you know. Care you trust.\n",
            "157   Care. Attention. Excellence.\n",
            "158   We're here, for you.\n",
            "159   Feels like family\n",
            "160   The skill to heal. The spirit to care.\n",
            "161   Progress lives here\n",
            "162   Remarkable People. Remarkable Medicine.\n",
            "163   Hearts Plus Minds\n",
            "164   Advanced Medicine, Trusted Care\n",
            "165   Growing to Meet Your Needs\n",
            "166   Making a difference today...for a brighter tomorrow\n",
            "167   Advanced medicine. Closer to you.\n",
            "168   Here & Now, Every Day.\n",
            "169   The name you know. The doctors you trust.\n",
            "170   Powerful Medicine. Comforting Care.\n",
            "171   Physicians, hospitals and communities working together to help you live better.\n",
            "172   At the heart of health\n",
            "173   Excellence in Healthcare. Every day.\n",
            "174   We go beyond patient care\n",
            "175   Quality Medical Care - Close to Home\n",
            "176   Clinical Excellence. Compassionate care.\n",
            "177   Atlanta can’t live without Grady\n",
            "178   Always Ready\n",
            "179   Believe in we\n",
            "180   You’re the center of everything we do.\n",
            "181   Quality care...close to home\n",
            "182   So far advanced, so close to home\n",
            "183   Putting patients first\n",
            "184   Well beyond medicine.\n",
            "185   Caring to make a difference\n",
            "186   Excellence. Right Here.\n",
            "187   A personal relationship with medical excellence.\n",
            "188   The expertise you need. The personal care you want.\n",
            "189   Transforming Healthcare in Every Direction\n",
            "190   Where people come first.\n",
            "191   Choose well.\n",
            "192   In special lives, we make a difference.\n",
            "193   A leading partner in a healthier community\n",
            "194   Expect the extraordinary\n",
            "195   Providing community access to quality healthcare\n",
            "196   Improving the lives we touch\n",
            "197   More than care...Commitment\n",
            "198   Caring for the health of our communities\n",
            "199   Unparalleled care. Close to home.\n",
            "200   Together in health\n",
            "201   Bettering the Human Condition\n",
            "202   Building a Healthy Community One Individual at a Time\n",
            "203   Providing exceptional health care on Florida’s Space Coast\n",
            "204   Leading hospitals. Trusted care.\n",
            "205   We’re Henry Ford. We can.\n",
            "206   The skill to heal. The spirit to care.\n",
            "207   The leader in life care living\n",
            "208   Your health. Our mission.\n",
            "209   Evolving Care...for Life\n",
            "210   Total Care. Inside and Out.\n",
            "211   Changing lives.\n",
            "212   Extraordinary care\n",
            "213   Healing begins here.\n",
            "214   Friends caring for friends\n",
            "215   Where the world comes to get back in the game\n",
            "216   Exceptional, Personalized Care\n",
            "217   A better place to get better\n",
            "218   Research. Education. Treatment.\n",
            "219   Quality care, close to home.\n",
            "220   Close to Home. Far from Ordinary.\n",
            "221   Your full circle of care.\n",
            "222   We are here for you.\n",
            "223   Community vales. Extraordinary care.\n",
            "224   Our Mission is Life\n",
            "225   Better Doctors. Better Care.\n",
            "226   Best Outcome for Every Patient Every Time\n",
            "227   Today, tomorrow, for life\n",
            "228   Caring for you\n",
            "229   Exceptional Environment. Extraordinary Care.\n",
            "230   We Put the CARE in Healthcare\n",
            "231   A century of experience for a new century of healing\n",
            "232   Enhancing life\n",
            "233   The right choice is right here\n",
            "234   Bringing excellence home\n",
            "235   Exceptional care. Exceptional people.\n",
            "236   Centered in care. Powered by pride.\n",
            "237   Experts in healing. Specialists in caring.\n",
            "238   Bringing loving care to health care\n",
            "239   A tradition of quality, commitment, and caring\n",
            "240   Thrive.\n",
            "241   Building a healthier future\n",
            "242   The Best Possible Care. The Best Possible People.\n",
            "243   Dedicated to Hope, Healing and Recovery.\n",
            "244   We’ll Earn Your Trust\n",
            "245   Be Health Empowered\n",
            "246   Keeping LIFE Grand\n",
            "247   To restore, maintain, and improve health\n",
            "248   Healthcare close to home\n",
            "249   Leading the way to better healthcare\n",
            "250   We get it.\n",
            "251   Quality care...right here\n",
            "252   Find your true north\n",
            "253   Your connection to healthcare\n",
            "254   Live what you love\n",
            "255   Choose well. Be well.\n",
            "256   Changing and Growing With You\n",
            "257   Well ahead.\n",
            "258   More minds advancing medicine\n",
            "259   Communicating, educating, integrating\n",
            "260   Whatever you do, do it well.\n",
            "261   Bringing the future of healthcare.\n",
            "262   So good. So caring. So close.\n",
            "263   Our legacy is yours.\n",
            "264   A Passion for Better Medicine\n",
            "265   Culture. Collaboration. Capital.\n",
            "266   Enhancing Life\n",
            "267   Moving medicine forward\n",
            "268   Making communities healthier\n",
            "269   The technology to heal, the mission to care\n",
            "270   The right care...right at home.\n",
            "271   Higher standards of care every day.\n",
            "272   Caring for Life\n",
            "273   Excellence in Health Care\n",
            "274   Better standards. Better care. Better outcomes.\n",
            "275   Expertise. Service. Integrity. We get it.\n",
            "276   We also treat the human spirit.\n",
            "277   Working for Your Better Health\n",
            "278   Life changing medicine\n",
            "279   One patient at a time\n",
            "280   Passionate About Medicine. Compassionate About People.\n",
            "281   Well ahead\n",
            "282   Centered around you\n",
            "283   Better. For you.\n",
            "284   Hope at Every Turn\n",
            "285   Doing what’s right.\n",
            "286   Well being for life\n",
            "287   Leading the Way in Medical Excellence\n",
            "288   People you know. Care you trust. Always.\n",
            "289   Where healthcare and community connect\n",
            "290   Your one source for help\n",
            "291   World class care right where you need it.\n",
            "292   Quality care. Family focused.\n",
            "293   The city just for kids\n",
            "294   Changing what’s possible\n",
            "295   Inspired Medicine\n",
            "296   Caring for families\n",
            "297   Excellence in health care\n",
            "298   Experience Excellence.\n",
            "299   Breakthroughs every day\n",
            "300   Excellence. Every Patient. Every Time.\n",
            "301   Dedication. Compassion. Innovation.\n",
            "302   Your partner for a lifetime of good health\n",
            "303   Partners in building a healthier community\n",
            "304   The Best Cancer Care. Anywhere.\n",
            "305   Excellence. Every Day in Every Way.\n",
            "306   Trusted. For Life.\n",
            "307   Healing in the broadest sense.\n",
            "308   Focused on You\n",
            "309   Care you can believe in.\n",
            "310   Our mission is to heal. Our passion is to care.\n",
            "311   Choose confidently.\n",
            "312   Your trusted healthcare partner...for life\n",
            "313   Taking care of New Jersey\n",
            "314   Committed to Communities\n",
            "315   Leading Medicine\n",
            "316   The Meaning of Care\n",
            "317   Providing an Exceptional Patient Experience\n",
            "318   Our mission is your health\n",
            "319   Leading You to Better Health\n",
            "320   We know what a miracle you are\n",
            "321   We’re committed to delivering outstanding healthcare. Period.\n",
            "322   Miracles of Hope\n",
            "323   The Region’s Leader\n",
            "324   The smarter choice for care\n",
            "325   A partner in total health care for a lifetime\n",
            "326   Caring for body, mind and spirit\n",
            "327   Leaders in healthcare. Followers in faith.\n",
            "328   Together in community\n",
            "329   Inspired medicine.\n",
            "330   People You Know. Extraordinary care.\n",
            "331   The passion to lead\n",
            "332   Exceptional people. Exceptional care.\n",
            "333   Because of you\n",
            "334   Where Healing Begins\n",
            "335   Bringing Loving Care to Health Care.\n",
            "336   Where children go to heal & grow\n",
            "337   Better Connected\n",
            "338   More than a hospital\n",
            "339   Always Caring. Always Here.\n",
            "340   With you for life\n",
            "341   It’s all about how we treat you.\n",
            "342   Together through life.\n",
            "343   When your child needs a hospital, everything matters\n",
            "344   Serious Medicine. Extraordinary Care.\n",
            "345   The meaning of care.\n",
            "346   Expertise in motion\n",
            "347   Amazing Things Are Happening Here\n",
            "348   Family friendly. First class.\n",
            "349   Uncommon care\n",
            "350   Where caring runs deep.\n",
            "351   Help to create new beginnings\n",
            "352   We treat you like family\n",
            "353   Compassionate Care, Advanced Medicine, Close to Home\n",
            "354   Providing Quality Mental Health Care Since 1959\n",
            "355   Your partner in care...every stage of your life.\n",
            "356   The right care...right at home.\n",
            "357   People you know, caring for people you love.\n",
            "358   Experience excellence. Experience caring.\n",
            "359   Passion. Commitment. Experience.\n",
            "360   Real People. Remarkable Care\n",
            "361   You’ll feel at home.\n",
            "362   Compassion. Expertise. Results.\n",
            "363   ...Committed to your health\n",
            "364   Our strength is caring. Our focus is you.\n",
            "365   Taking healthcare forward\n",
            "366   Making a difference in our community\n",
            "367   Advancing medicine. Compassionate care.\n",
            "368   Healthcare with peace of mind\n",
            "369   Helping people feel better\n",
            "370   Believe in We\n",
            "371   Exceptional care...always\n",
            "372   Specialty Medicine with Commitment, Compassion and Care\n",
            "373   Where Healing, Teaching & Discovery Come Together\n",
            "374   When it matters most.\n",
            "375   Care for your lifetime\n",
            "376   Your community safety net for over 50 years\n",
            "377   The right care, right here\n",
            "378   My Community. My Hospital.\n",
            "379   Everything you need\n",
            "380   Keeping You Well\n",
            "381   Treated well. Well treated.\n",
            "382   Healing experiences- for everyone, all the time\n",
            "383   Not Your Ordinary Small Town Hospital\n",
            "384   Knowledge of experts. Compassion of neighbors.\n",
            "385   Meeting the challenges of an ever-changing healthcare environment\n",
            "386   Caring people...caring for people\n",
            "387   Proud to be your hospital\n",
            "388   Quality health care...with a personal touch\n",
            "389   Get better. Here.\n",
            "390   Invested in your vision\n",
            "391   The perfect balance between Health & Care\n",
            "392   Our Family. Caring for Yours.\n",
            "393   Here for you.\n",
            "394   Be well.\n",
            "395   Today counts.\n",
            "396   Solutions for Change\n",
            "397   Redefining care\n",
            "398   Doctor-Driven Wellness and Care Management\n",
            "399   Your health. Our mission.\n",
            "400   For life’s most serious illnesses and injuries\n",
            "401   Working together for your good health\n",
            "402   That’s powerful healing.\n",
            "403   A mission of compassion. A vision of excellence.\n",
            "404   Serving, Caring, Healing since 1854\n",
            "405   Making our communities healthier\n",
            "406   Where your needs become our cares\n",
            "407   We touch lives\n",
            "408   Advancing care every day\n",
            "409   Advancing health. Transforming lives.\n",
            "410   Strong healthcare. Strong community.\n",
            "411   We believe the heart of healthcare is service to others\n",
            "412   Dedicated to providing quality healthcare\n",
            "413   Achieving better health care one patient at a time\n",
            "414   Chosen for Excellence.\n",
            "415   Safe harbor for your health.\n",
            "416   Your connection to care\n",
            "417   We treat every person like a member of our family.\n",
            "418   Understand, prevent, and cure cancer\n",
            "419   Quality health care...connected to you\n",
            "420   Medicine made better\n",
            "421   It’s How Medicine Should Be\n",
            "422   High-tech care... hometown touch\n",
            "423   A Legacy of Excellence\n",
            "424   Well beyond healthcare.\n",
            "425   Medical Excellence. Compassionate Care.\n",
            "426   Remarkable Medicine. Remarkable Care.\n",
            "427   Minds that cure. Hearts that care.\n",
            "428   Confidence for the good life.\n",
            "429   Embrace each moment\n",
            "430   Generations of gentle care\n",
            "431   Embracing the past. Looking toward the future. Together we can heal.\n",
            "432   Committed to Caring Since 1926\n",
            "433   A commitment to community\n",
            "434   Changing the way you receive healthcare\n",
            "435   Trusted compassionate care\n",
            "436   Three facilities, one healthcare system, one vision\n",
            "437   Improving Health in Our Communities\n",
            "438   Excellence is Our Specialty\n",
            "439   Quality care, close to home\n",
            "440   The Expect Care You Want\n",
            "441   the science of hope\n",
            "442   Dedicated to caring for our community.\n",
            "443   Much more than medicine\n",
            "444   Connected for life\n",
            "445   Every life, every moment, every day\n",
            "446   Love to the rescue\n",
            "447   Exceptional. Compassionate. Patient-centered care.\n",
            "448   This is my hospital.\n",
            "449   A True Devotion to Healing\n",
            "450   Our mission is to heal. Our passion is to care.\n",
            "451   Your hospital for life.\n",
            "452   Improving your health. And your life.\n",
            "453   Your care. Your trust. Our passion.\n",
            "454   For expert care, look no further.\n",
            "455   Redefining Healthcare\n",
            "456   Touching lives, one patient at a time.\n",
            "457   Complete health care for your family\n",
            "458   More than medicine.\n",
            "459   Your community hospital\n",
            "460   I am your Southeastern\n",
            "461   With us, it’s always personal\n",
            "462   Where caring and community come together\n",
            "463   Your health. Our mission.\n",
            "464   Find your strength\n",
            "465   More than you expect...\n",
            "466   Higher standards of every day care\n",
            "467   Leading the way\n",
            "468   Where people come first\n",
            "469   Strong foundation, brilliant future\n",
            "470   Amazing technology. Graceful care.\n",
            "471   Advanced Medicine. Compassionate Care.\n",
            "472   The heart of great medicine\n",
            "473   Exceptional high-quality healthcare close to home\n",
            "474   Guided by faith...Committed to excellence\n",
            "475   Why St Francis? Quality Matters\n",
            "476   In step with a growing community\n",
            "477   Your good health is our greatest achievement.\n",
            "478   Medicine to the highest power\n",
            "479   Well beyond healthcare\n",
            "480   Miracles Made Daily\n",
            "481   Our community...Our hospital\n",
            "482   A Passion for Healing\n",
            "483   Believe in better\n",
            "484   Life is getting better\n",
            "485   A higher level of care\n",
            "486   First. Best. Always.\n",
            "487   Finding cure. Saving children.\n",
            "488   With you for life.\n",
            "489   Our specialty is you.\n",
            "490   Faithful, Loving Care\n",
            "491   It’s your health. Expect more.\n",
            "492   Care you can trust\n",
            "493   We’re Right Where You Need Us\n",
            "494   For the Heart of Cleveland\n",
            "495   Imagine better health\n",
            "496   The spirit of caring close to home\n",
            "497   Inspired.\n",
            "498   The region’s only catholic health system\n",
            "499   Taking care of New Jersey\n",
            "500   The regional center for health \n",
            "501   Look no further\n",
            "502   High standards of care every day\n",
            "503   World class healthcare where you live\n",
            "504   Home of the best ideas in medicine.\n",
            "505   Working together. Working for you.\n",
            "506   The peak of good health\n",
            "507   Professional service, personal care\n",
            "508   We plus you\n",
            "509   The science of feeling better\n",
            "510   Healthcare close to home\n",
            "511   Your community. Your hospital.\n",
            "512   Your Hospital for Life\n",
            "513   Your Healthcare Elevated\n",
            "514   Healing Hands. Caring Hearts.\n",
            "515   Advancing treatment. Transforming lives.\n",
            "516   Patient centered excellence\n",
            "517   We specialize in you\n",
            "518   Better for you\n",
            "519   Physicians, hospitals and communities working together to help you live better.\n",
            "520   Your Most Trusted Health Partner for Life\n",
            "521   A family of hospitals for your family.\n",
            "522   Better. For everyone.\n",
            "523   Putting you first.\n",
            "524   We will make a health difference in the lives we touch\n",
            "525   Where Compassion and Healing Come Together\n",
            "526   Medicine that touches the world.\n",
            "527   at the forefront of medicine\n",
            "528   Changing medicine. For good.\n",
            "529   Changing Medicine. Changing Lives.\n",
            "530   The Michigan Difference\n",
            "531   Education. Research. Healthcare.\n",
            "532   Medicine of the Highest Order\n",
            "533   Wisdom for Your Life.\n",
            "534   Making Cancer History\n",
            "535   Working together to work wonders\n",
            "536   Dedication beyond measure.\n",
            "537   The Future of Healthcare\n",
            "538   Enhancing Life. Excelling in Care\n",
            "539   Believe in Better Life\n",
            "540   Progressive care with compassion.\n",
            "541   Making communities healthier\n",
            "542   Every Day, A New Discovery.\n",
            "543   Our Best, Every Day\n",
            "544   Because Your Life Matters\n",
            "545   Helping through understanding\n",
            "546   Expert health care close to home\n",
            "547   Never out of touch\n",
            "548   Knowledge makes all the difference\n",
            "549   A Union of Compassion + Healthcare\n",
            "550   The Right Care is Right Here. \n",
            "551   Where caring is our calling.\n",
            "552   Here for you\n",
            "553   Dedicated to the Glory of God and Those Who Serve Him.\n",
            "554   The Highest Quality Healthcare\n",
            "555   The Area’s Most Experienced Hospital.\n",
            "556   Advanced Healthcare Made Personal\n",
            "557   For the journey that is life.\n",
            "558   Intensive Caring\n",
            "559   Your need, our commitment.\n",
            "560   So healthy together\n",
            "561   Our family caring for your family \n",
            "562   Healthcare that Cares\n",
            "563   Better Healthcare Starts Here\n",
            "564   Superior Care...Surprisingly close\n",
            "565   Live Life Well\n",
            "566   A Tradition of Excellence. A Legacy of Caring.\n",
            "567   Small Hospital. Big Hospital.\n",
            "568   Choose Wisely. Choose Backus.\n",
            "569   Expect excellence.\n",
            "570   Treatment with strength and compassion\n",
            "571   Choose Well. Choose Wilson\n",
            "572   Healthier, together.\n",
            "573   Compassion. Innovation. Trust\n",
            "574   Your Health Means Everything.\n",
            "575   Bringing loving care to health care\n",
            "576   Passion for Healthcare\n",
            "577   Your Health. Elevated.\n",
            "578   Caring for the growing needs of our community.\n"
          ]
        }
      ]
    },
    {
      "cell_type": "code",
      "metadata": {
        "id": "j1i4O5913Hpa"
      },
      "source": [
        "# remove '' and ' '\n",
        "\n",
        "for _ in taglines:\n",
        "  if _ == '' or _ == \" \":\n",
        "    taglines.remove(_)\n"
      ],
      "execution_count": null,
      "outputs": []
    },
    {
      "cell_type": "code",
      "metadata": {
        "colab": {
          "base_uri": "https://localhost:8080/"
        },
        "id": "PJHjFELv3tQg",
        "outputId": "82a3d318-5d90-4b3b-dd76-0b86f0a6aa42"
      },
      "source": [
        "len(taglines)  # 3 entried removed"
      ],
      "execution_count": null,
      "outputs": [
        {
          "output_type": "execute_result",
          "data": {
            "text/plain": [
              "585"
            ]
          },
          "metadata": {},
          "execution_count": 42
        }
      ]
    },
    {
      "cell_type": "code",
      "metadata": {
        "id": "Y8TS6Qeg7nC5"
      },
      "source": [
        "taglines.remove(\"So good. So caring. So close.\")"
      ],
      "execution_count": null,
      "outputs": []
    },
    {
      "cell_type": "code",
      "metadata": {
        "colab": {
          "base_uri": "https://localhost:8080/"
        },
        "id": "4oGpMR-j7rkK",
        "outputId": "4d0d9b0a-bbad-4685-899e-c7b0a1ae2216"
      },
      "source": [
        "len(taglines)  # one duplicate entry removed"
      ],
      "execution_count": null,
      "outputs": [
        {
          "output_type": "execute_result",
          "data": {
            "text/plain": [
              "584"
            ]
          },
          "metadata": {},
          "execution_count": 47
        }
      ]
    },
    {
      "cell_type": "code",
      "metadata": {
        "id": "fcVVMcAc8Rwz"
      },
      "source": [
        "taglines.remove(\"Lead\")  # remove split sentebnce, add this to the next sentence\n",
        "taglines[287] = \"Lead\" + taglines[287] "
      ],
      "execution_count": null,
      "outputs": []
    },
    {
      "cell_type": "code",
      "metadata": {
        "colab": {
          "base_uri": "https://localhost:8080/"
        },
        "id": "NNFi9C7b8n8J",
        "outputId": "cf96a4c1-676f-4aaf-c250-95da27e58fe0"
      },
      "source": [
        "len(taglines)"
      ],
      "execution_count": null,
      "outputs": [
        {
          "output_type": "execute_result",
          "data": {
            "text/plain": [
              "583"
            ]
          },
          "metadata": {},
          "execution_count": 50
        }
      ]
    },
    {
      "cell_type": "code",
      "metadata": {
        "id": "ZiI8VyuMBw5a"
      },
      "source": [
        "taglines.remove(\"I\")  # remove split sentebnce, add this to the next sentence\n",
        "taglines[295] = \"I\" + taglines[295] "
      ],
      "execution_count": null,
      "outputs": []
    },
    {
      "cell_type": "code",
      "metadata": {
        "colab": {
          "base_uri": "https://localhost:8080/"
        },
        "id": "ngmtLdzJB84c",
        "outputId": "a3f647a6-f2e2-4876-fbb3-d1716982e64a"
      },
      "source": [
        "len(taglines)"
      ],
      "execution_count": null,
      "outputs": [
        {
          "output_type": "execute_result",
          "data": {
            "text/plain": [
              "582"
            ]
          },
          "metadata": {},
          "execution_count": 53
        }
      ]
    },
    {
      "cell_type": "code",
      "metadata": {
        "id": "8VtLJ5tXCTLU"
      },
      "source": [
        "taglines.remove(\"Our mission is to heal. Our passion is to care.\")  # remove double entry"
      ],
      "execution_count": null,
      "outputs": []
    },
    {
      "cell_type": "code",
      "metadata": {
        "colab": {
          "base_uri": "https://localhost:8080/"
        },
        "id": "sb6JFBBTCZYx",
        "outputId": "46bfa41b-be87-42dd-8c86-ee1fa98d2992"
      },
      "source": [
        "len(taglines)"
      ],
      "execution_count": null,
      "outputs": [
        {
          "output_type": "execute_result",
          "data": {
            "text/plain": [
              "581"
            ]
          },
          "metadata": {},
          "execution_count": 56
        }
      ]
    },
    {
      "cell_type": "code",
      "metadata": {
        "id": "0PhYgUQtDvaM"
      },
      "source": [
        "taglines.remove(\"Taking healthcare forward\")  # double entry"
      ],
      "execution_count": null,
      "outputs": []
    },
    {
      "cell_type": "code",
      "metadata": {
        "colab": {
          "base_uri": "https://localhost:8080/"
        },
        "id": "cdrHYhX2D1SZ",
        "outputId": "eb474436-2ad0-4e1f-d047-702dfb3a63d6"
      },
      "source": [
        "len(taglines)"
      ],
      "execution_count": null,
      "outputs": [
        {
          "output_type": "execute_result",
          "data": {
            "text/plain": [
              "580"
            ]
          },
          "metadata": {},
          "execution_count": 59
        }
      ]
    },
    {
      "cell_type": "code",
      "metadata": {
        "id": "uO-23waWFD0e"
      },
      "source": [
        "taglines.remove(\"The regional center for health\")  # double entry"
      ],
      "execution_count": null,
      "outputs": []
    },
    {
      "cell_type": "code",
      "metadata": {
        "colab": {
          "base_uri": "https://localhost:8080/"
        },
        "id": "WrKUZF3fFI_B",
        "outputId": "c0e5998b-4a09-4c39-e63e-8740757254d7"
      },
      "source": [
        "len(taglines)"
      ],
      "execution_count": null,
      "outputs": [
        {
          "output_type": "execute_result",
          "data": {
            "text/plain": [
              "579"
            ]
          },
          "metadata": {},
          "execution_count": 62
        }
      ]
    },
    {
      "cell_type": "code",
      "metadata": {
        "colab": {
          "base_uri": "https://localhost:8080/"
        },
        "id": "NQZ4WvrfGp1o",
        "outputId": "c06a19e0-cb07-45d4-a13e-9e2be59a36b0"
      },
      "source": [
        "# code to check double entries in taglines \n",
        "\n",
        "for i in range(len(taglines) - 1):\n",
        "  if taglines[i] == taglines[i+1]:\n",
        "    print(i)\n",
        "    print(\"hey\") "
      ],
      "execution_count": null,
      "outputs": [
        {
          "output_type": "stream",
          "name": "stdout",
          "text": [
            "138\n",
            "hey\n"
          ]
        }
      ]
    },
    {
      "cell_type": "code",
      "metadata": {
        "id": "41AtqivCHCqu"
      },
      "source": [
        "taglines.remove(\"Extraordinary People. Extraordinary Care.\")"
      ],
      "execution_count": null,
      "outputs": []
    },
    {
      "cell_type": "code",
      "metadata": {
        "colab": {
          "base_uri": "https://localhost:8080/"
        },
        "id": "cS2uLGBlHIKT",
        "outputId": "77213a91-255c-496b-8bfe-ad2f2ab821b2"
      },
      "source": [
        "len(taglines)"
      ],
      "execution_count": null,
      "outputs": [
        {
          "output_type": "execute_result",
          "data": {
            "text/plain": [
              "578"
            ]
          },
          "metadata": {},
          "execution_count": 70
        }
      ]
    },
    {
      "cell_type": "markdown",
      "metadata": {
        "id": "EXIFvxJW3fVO"
      },
      "source": [
        "# Conversion to a DataFrame"
      ]
    },
    {
      "cell_type": "code",
      "metadata": {
        "id": "G2TvNG2FLVKJ"
      },
      "source": [
        "import pandas as pd"
      ],
      "execution_count": null,
      "outputs": []
    },
    {
      "cell_type": "code",
      "metadata": {
        "id": "ya5cU7zmK_sr"
      },
      "source": [
        "# merge into a dataframe\n",
        "\n",
        "df = pd.DataFrame(list(zip(hospital_names, taglines)),\n",
        "               columns =['Hospital', 'Tagline'])"
      ],
      "execution_count": null,
      "outputs": []
    },
    {
      "cell_type": "code",
      "metadata": {
        "colab": {
          "base_uri": "https://localhost:8080/",
          "height": 204
        },
        "id": "MtnhxML9LX9x",
        "outputId": "a2e7316e-8bcb-42ba-fe37-a4620e1a5470"
      },
      "source": [
        "df.head()"
      ],
      "execution_count": null,
      "outputs": [
        {
          "output_type": "execute_result",
          "data": {
            "text/html": [
              "<div>\n",
              "<style scoped>\n",
              "    .dataframe tbody tr th:only-of-type {\n",
              "        vertical-align: middle;\n",
              "    }\n",
              "\n",
              "    .dataframe tbody tr th {\n",
              "        vertical-align: top;\n",
              "    }\n",
              "\n",
              "    .dataframe thead th {\n",
              "        text-align: right;\n",
              "    }\n",
              "</style>\n",
              "<table border=\"1\" class=\"dataframe\">\n",
              "  <thead>\n",
              "    <tr style=\"text-align: right;\">\n",
              "      <th></th>\n",
              "      <th>Hospital</th>\n",
              "      <th>Tagline</th>\n",
              "    </tr>\n",
              "  </thead>\n",
              "  <tbody>\n",
              "    <tr>\n",
              "      <th>0</th>\n",
              "      <td>Abington Memorial Hospital</td>\n",
              "      <td>The Power to Heal</td>\n",
              "    </tr>\n",
              "    <tr>\n",
              "      <th>1</th>\n",
              "      <td>Acadia Hospital</td>\n",
              "      <td>Empowering People to Improve Their Lives</td>\n",
              "    </tr>\n",
              "    <tr>\n",
              "      <th>2</th>\n",
              "      <td>Adams Memorial Hospital</td>\n",
              "      <td>Exceptional Care Close to You</td>\n",
              "    </tr>\n",
              "    <tr>\n",
              "      <th>3</th>\n",
              "      <td>Adirondack Medical Center</td>\n",
              "      <td>Excellent health care... Close to home</td>\n",
              "    </tr>\n",
              "    <tr>\n",
              "      <th>4</th>\n",
              "      <td>Adventist Healthcare Sunbelt</td>\n",
              "      <td>Extending the Healing Ministry of Christ</td>\n",
              "    </tr>\n",
              "  </tbody>\n",
              "</table>\n",
              "</div>"
            ],
            "text/plain": [
              "                       Hospital                                   Tagline\n",
              "0    Abington Memorial Hospital                        The Power to Heal \n",
              "1               Acadia Hospital  Empowering People to Improve Their Lives\n",
              "2       Adams Memorial Hospital             Exceptional Care Close to You\n",
              "3     Adirondack Medical Center    Excellent health care... Close to home\n",
              "4  Adventist Healthcare Sunbelt  Extending the Healing Ministry of Christ"
            ]
          },
          "metadata": {},
          "execution_count": 73
        }
      ]
    },
    {
      "cell_type": "code",
      "metadata": {
        "colab": {
          "base_uri": "https://localhost:8080/",
          "height": 360
        },
        "id": "55IUTWSQL1lV",
        "outputId": "dfc446e6-14db-47e8-8217-3d90b433b9fa"
      },
      "source": [
        "df.tail(10)"
      ],
      "execution_count": null,
      "outputs": [
        {
          "output_type": "execute_result",
          "data": {
            "text/html": [
              "<div>\n",
              "<style scoped>\n",
              "    .dataframe tbody tr th:only-of-type {\n",
              "        vertical-align: middle;\n",
              "    }\n",
              "\n",
              "    .dataframe tbody tr th {\n",
              "        vertical-align: top;\n",
              "    }\n",
              "\n",
              "    .dataframe thead th {\n",
              "        text-align: right;\n",
              "    }\n",
              "</style>\n",
              "<table border=\"1\" class=\"dataframe\">\n",
              "  <thead>\n",
              "    <tr style=\"text-align: right;\">\n",
              "      <th></th>\n",
              "      <th>Hospital</th>\n",
              "      <th>Tagline</th>\n",
              "    </tr>\n",
              "  </thead>\n",
              "  <tbody>\n",
              "    <tr>\n",
              "      <th>568</th>\n",
              "      <td>Williamson Medical Center</td>\n",
              "      <td>Expect excellence.</td>\n",
              "    </tr>\n",
              "    <tr>\n",
              "      <th>569</th>\n",
              "      <td>Willough Healthcare System</td>\n",
              "      <td>Treatment with strength and compassion</td>\n",
              "    </tr>\n",
              "    <tr>\n",
              "      <th>570</th>\n",
              "      <td>Wilson Medical Center</td>\n",
              "      <td>Choose Well. Choose Wilson</td>\n",
              "    </tr>\n",
              "    <tr>\n",
              "      <th>571</th>\n",
              "      <td>Winchester Medical Center</td>\n",
              "      <td>Healthier, together.</td>\n",
              "    </tr>\n",
              "    <tr>\n",
              "      <th>572</th>\n",
              "      <td>Winter Haven Hospital</td>\n",
              "      <td>Compassion. Innovation. Trust</td>\n",
              "    </tr>\n",
              "    <tr>\n",
              "      <th>573</th>\n",
              "      <td>Winthrop University Hospital</td>\n",
              "      <td>Your Health Means Everything.</td>\n",
              "    </tr>\n",
              "    <tr>\n",
              "      <th>574</th>\n",
              "      <td>Woodridge Hospital</td>\n",
              "      <td>Bringing loving care to health care</td>\n",
              "    </tr>\n",
              "    <tr>\n",
              "      <th>575</th>\n",
              "      <td>Wythe County Community Hospital</td>\n",
              "      <td>Passion for Healthcare</td>\n",
              "    </tr>\n",
              "    <tr>\n",
              "      <th>576</th>\n",
              "      <td>Yampa Valley Medical Center</td>\n",
              "      <td>Your Health. Elevated.</td>\n",
              "    </tr>\n",
              "    <tr>\n",
              "      <th>577</th>\n",
              "      <td>Yuma Regional Medical Center</td>\n",
              "      <td>Caring for the growing needs of our community.</td>\n",
              "    </tr>\n",
              "  </tbody>\n",
              "</table>\n",
              "</div>"
            ],
            "text/plain": [
              "                            Hospital                                         Tagline\n",
              "568        Williamson Medical Center                              Expect excellence.\n",
              "569       Willough Healthcare System          Treatment with strength and compassion\n",
              "570            Wilson Medical Center                      Choose Well. Choose Wilson\n",
              "571        Winchester Medical Center                            Healthier, together.\n",
              "572            Winter Haven Hospital                   Compassion. Innovation. Trust\n",
              "573     Winthrop University Hospital                   Your Health Means Everything.\n",
              "574               Woodridge Hospital             Bringing loving care to health care\n",
              "575  Wythe County Community Hospital                          Passion for Healthcare\n",
              "576      Yampa Valley Medical Center                          Your Health. Elevated.\n",
              "577     Yuma Regional Medical Center  Caring for the growing needs of our community."
            ]
          },
          "metadata": {},
          "execution_count": 74
        }
      ]
    },
    {
      "cell_type": "code",
      "metadata": {
        "colab": {
          "base_uri": "https://localhost:8080/"
        },
        "id": "25094MsxYsyb",
        "outputId": "7f0d2fed-9930-4dd6-a39e-c9770a48aceb"
      },
      "source": [
        "len(taglines)"
      ],
      "execution_count": null,
      "outputs": [
        {
          "output_type": "execute_result",
          "data": {
            "text/plain": [
              "578"
            ]
          },
          "metadata": {},
          "execution_count": 75
        }
      ]
    },
    {
      "cell_type": "code",
      "metadata": {
        "colab": {
          "base_uri": "https://localhost:8080/"
        },
        "id": "HQw7cENCHhSb",
        "outputId": "0c6ee267-e8b0-436b-f945-cd22650d834a"
      },
      "source": [
        "len(hospital_names)"
      ],
      "execution_count": null,
      "outputs": [
        {
          "output_type": "execute_result",
          "data": {
            "text/plain": [
              "578"
            ]
          },
          "metadata": {},
          "execution_count": 76
        }
      ]
    },
    {
      "cell_type": "code",
      "metadata": {
        "id": "KPGfo0Q4LcjL"
      },
      "source": [
        "import pickle\n",
        "df.to_csv('taglines.csv')\n"
      ],
      "execution_count": null,
      "outputs": []
    },
    {
      "cell_type": "code",
      "metadata": {
        "id": "L5VHbAJ82FbP"
      },
      "source": [
        ""
      ],
      "execution_count": null,
      "outputs": []
    }
  ]
}